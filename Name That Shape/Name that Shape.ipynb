{
 "cells": [
  {
   "cell_type": "code",
   "execution_count": 1,
   "metadata": {},
   "outputs": [
    {
     "name": "stdout",
     "output_type": "stream",
     "text": [
      "Enter the number of sides: 4\n",
      "That is a quadrilateral\n"
     ]
    }
   ],
   "source": [
    "## Report the name of a shape from its number of sides.\n",
    "\n",
    "# Read the number of sides from the user\n",
    "nsides = int(input('Enter the number of sides: '))\n",
    "\n",
    "# Determine the name, leaving it empty if an unsupported number of sides was entered\n",
    "name = ''\n",
    "if nsides == 3:\n",
    "    name = 'triangle'\n",
    "elif nsides == 4:\n",
    "    name = 'quadrilateral'\n",
    "elif nsides == 5:\n",
    "    name = 'pentagon'\n",
    "elif nsides == 6:\n",
    "    name = 'hexagon'\n",
    "elif nsides == 7:\n",
    "    name = 'heptagon'\n",
    "elif nsides == 8:\n",
    "    name = 'octagon'\n",
    "elif nsides == 9:\n",
    "    name = 'nonagon'\n",
    "elif nsides == 10:\n",
    "    name = 'decagon'\n",
    "    \n",
    "# Display an error message or the name of the polygon\n",
    "if name == '':\n",
    "    print('That number of sides is not supported by this program.')\n",
    "else:\n",
    "    print('That is a', name)"
   ]
  }
 ],
 "metadata": {
  "kernelspec": {
   "display_name": "Python 3",
   "language": "python",
   "name": "python3"
  },
  "language_info": {
   "codemirror_mode": {
    "name": "ipython",
    "version": 3
   },
   "file_extension": ".py",
   "mimetype": "text/x-python",
   "name": "python",
   "nbconvert_exporter": "python",
   "pygments_lexer": "ipython3",
   "version": "3.6.5"
  }
 },
 "nbformat": 4,
 "nbformat_minor": 2
}
