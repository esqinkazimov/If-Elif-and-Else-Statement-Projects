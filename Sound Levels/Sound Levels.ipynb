{
 "cells": [
  {
   "cell_type": "code",
   "execution_count": 1,
   "metadata": {},
   "outputs": [
    {
     "name": "stdout",
     "output_type": "stream",
     "text": [
      "Enter number of decibels: 95\n",
      "Higher than Alarm clock and lower than Gas lawnmower.\n"
     ]
    }
   ],
   "source": [
    "## Determine the noise level of sound\n",
    "\n",
    "# Read input from the user\n",
    "dbs = float(input('Enter number of decibels: '))\n",
    "\n",
    "# Determine the noise level\n",
    "if dbs < 40:\n",
    "    print('Lower than Quiet room.')\n",
    "elif dbs == 40:\n",
    "    print('Quiet room')\n",
    "elif dbs > 40 and dbs < 70:\n",
    "    print('Higher than Quiet room and lower than Alarm clock.')\n",
    "elif dbs == 70:\n",
    "    print('Alarm clock')\n",
    "elif dbs > 70 and dbs < 106:\n",
    "    print('Higher than Alarm clock and lower than Gas lawnmower.')\n",
    "elif dbs == 106:\n",
    "    print('Gas lawnmower')\n",
    "elif dbs > 106 and dbs < 130:\n",
    "    print('Higher than Gas lawnmower and lower than Jackhammer.')\n",
    "elif dbs == 130:\n",
    "    print('Jackhammer')\n",
    "else:\n",
    "    print('Higher than Jackhammer')"
   ]
  }
 ],
 "metadata": {
  "kernelspec": {
   "display_name": "Python 3",
   "language": "python",
   "name": "python3"
  },
  "language_info": {
   "codemirror_mode": {
    "name": "ipython",
    "version": 3
   },
   "file_extension": ".py",
   "mimetype": "text/x-python",
   "name": "python",
   "nbconvert_exporter": "python",
   "pygments_lexer": "ipython3",
   "version": "3.6.5"
  }
 },
 "nbformat": 4,
 "nbformat_minor": 2
}
