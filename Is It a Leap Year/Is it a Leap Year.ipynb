{
 "cells": [
  {
   "cell_type": "code",
   "execution_count": 1,
   "metadata": {},
   "outputs": [
    {
     "name": "stdout",
     "output_type": "stream",
     "text": [
      "Enter a year: 2020\n",
      "2020 is a leap year.\n"
     ]
    }
   ],
   "source": [
    "## Determine whether or not a year is a leap year.\n",
    "\n",
    "# Read the year from the user\n",
    "year = int(input('Enter a year: '))\n",
    "\n",
    "# Determine if it is a leap year\n",
    "if year % 400 == 0:\n",
    "    isLeapYear = True\n",
    "elif year % 100 == 0:\n",
    "    isLeapYear = False\n",
    "elif year % 4 == 0:\n",
    "    isLeapYear = True\n",
    "else: \n",
    "    isLeapYear = False\n",
    "    \n",
    "# Display the result\n",
    "if isLeapYear:\n",
    "    print(year, 'is a leap year.')\n",
    "else:\n",
    "    print(year, 'is not a leap year.')"
   ]
  }
 ],
 "metadata": {
  "kernelspec": {
   "display_name": "Python 3",
   "language": "python",
   "name": "python3"
  },
  "language_info": {
   "codemirror_mode": {
    "name": "ipython",
    "version": 3
   },
   "file_extension": ".py",
   "mimetype": "text/x-python",
   "name": "python",
   "nbconvert_exporter": "python",
   "pygments_lexer": "ipython3",
   "version": "3.6.5"
  }
 },
 "nbformat": 4,
 "nbformat_minor": 2
}
