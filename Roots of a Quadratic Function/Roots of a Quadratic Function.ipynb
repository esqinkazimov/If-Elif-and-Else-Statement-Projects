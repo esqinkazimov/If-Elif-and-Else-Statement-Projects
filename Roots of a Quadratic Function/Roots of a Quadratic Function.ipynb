{
 "cells": [
  {
   "cell_type": "code",
   "execution_count": 1,
   "metadata": {},
   "outputs": [
    {
     "name": "stdout",
     "output_type": "stream",
     "text": [
      "Include the coefficient of x^2:   4\n",
      "Include the coefficient of x:     8\n",
      "Include the intercept parameter:  4\n",
      "The equation has only one real root which is -16.0\n"
     ]
    }
   ],
   "source": [
    "## Compute the roots of a given quadratic equation\n",
    "\n",
    "from math import sqrt\n",
    "\n",
    "# Read the values from the user\n",
    "a = float(input('Include the coefficient of x^2:   '))\n",
    "b = float(input('Include the coefficient of x:     '))\n",
    "c = float(input('Include the intercept parameter:  '))\n",
    "\n",
    "# Compute the roots and display the result\n",
    "discriminant = b ** 2 - 4 * a * c\n",
    "if discriminant < 0:\n",
    "    print('The equation does not have any real roots.')\n",
    "elif discriminant == 0:\n",
    "    root1 = -1 * b / 2 * a\n",
    "    print('The equation has only one real root which is', root1)\n",
    "else:\n",
    "    root1 = (-1 * b + sqrt(discriminant)) / 2 * a\n",
    "    root2 = (-1 * b - sqrt(discriminant)) / 2 * a\n",
    "    print('The equation has two roots which are', root1,'and', root2)"
   ]
  }
 ],
 "metadata": {
  "kernelspec": {
   "display_name": "Python 3",
   "language": "python",
   "name": "python3"
  },
  "language_info": {
   "codemirror_mode": {
    "name": "ipython",
    "version": 3
   },
   "file_extension": ".py",
   "mimetype": "text/x-python",
   "name": "python",
   "nbconvert_exporter": "python",
   "pygments_lexer": "ipython3",
   "version": "3.6.5"
  }
 },
 "nbformat": 4,
 "nbformat_minor": 2
}
