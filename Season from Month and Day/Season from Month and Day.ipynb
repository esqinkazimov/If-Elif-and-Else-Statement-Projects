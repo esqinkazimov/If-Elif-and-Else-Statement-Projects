{
 "cells": [
  {
   "cell_type": "code",
   "execution_count": 1,
   "metadata": {},
   "outputs": [
    {
     "name": "stdout",
     "output_type": "stream",
     "text": [
      "Enter the name of the month: August\n",
      "Enter the day number: 10\n",
      "August 10 is in Summer\n"
     ]
    }
   ],
   "source": [
    "## Determine and display the season associated with a date.\n",
    "\n",
    "# Read the data from the user\n",
    "month = input('Enter the name of the month: ')\n",
    "day = int(input('Enter the day number: '))\n",
    "\n",
    "# Determine the season\n",
    "if month == 'January' or month == 'February':\n",
    "    season = 'Winter'\n",
    "elif month == 'March':\n",
    "    if day < 20:\n",
    "        season = 'Winter'\n",
    "    else:\n",
    "        season = 'Spring'\n",
    "elif month == 'April' or month == 'May':\n",
    "    season = 'Spring'\n",
    "elif month == 'June':\n",
    "    if day < 21:\n",
    "        season = 'Spring'\n",
    "    else:\n",
    "        season = 'Summer'\n",
    "elif month == 'July' or month == 'August':\n",
    "    season = 'Summer'\n",
    "elif month == 'September':\n",
    "    if day < 22:\n",
    "        season = 'Summer'\n",
    "    else:\n",
    "        season = 'Fall'\n",
    "elif month == 'October' or month == 'November':\n",
    "    season = 'Fall'\n",
    "elif month == 'December':\n",
    "    if day < 21:\n",
    "        season = 'Fall'\n",
    "    else: \n",
    "        season = 'Winter'\n",
    "        \n",
    "# Display the result\n",
    "print(month, day, 'is in', season)"
   ]
  }
 ],
 "metadata": {
  "kernelspec": {
   "display_name": "Python 3",
   "language": "python",
   "name": "python3"
  },
  "language_info": {
   "codemirror_mode": {
    "name": "ipython",
    "version": 3
   },
   "file_extension": ".py",
   "mimetype": "text/x-python",
   "name": "python",
   "nbconvert_exporter": "python",
   "pygments_lexer": "ipython3",
   "version": "3.6.5"
  }
 },
 "nbformat": 4,
 "nbformat_minor": 2
}
