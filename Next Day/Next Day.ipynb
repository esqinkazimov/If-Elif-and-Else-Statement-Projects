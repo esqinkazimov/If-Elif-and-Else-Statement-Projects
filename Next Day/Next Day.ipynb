{
 "cells": [
  {
   "cell_type": "code",
   "execution_count": 1,
   "metadata": {},
   "outputs": [
    {
     "name": "stdout",
     "output_type": "stream",
     "text": [
      "Enter the year: 2019\n",
      "Enter the month: 2\n",
      "Enter the day: 28\n",
      "Next day after 2019-02-28 is 2019-03-01.\n"
     ]
    }
   ],
   "source": [
    "## Determine the date of the next day\n",
    "\n",
    "from datetime import datetime\n",
    "\n",
    "# Read input from the user\n",
    "year = int(input('Enter the year: '))\n",
    "month = int(input('Enter the month: '))\n",
    "day = int(input('Enter the day: '))\n",
    "d_year, d_month, d_day = year, month, day\n",
    "\n",
    "# Determine if it is a leap year\n",
    "if year % 400 == 0:\n",
    "    isLeapYear = True\n",
    "elif year % 100 == 0:\n",
    "    isLeapYear = False\n",
    "elif year % 4 == 0:\n",
    "    isLeapYear = True\n",
    "else:\n",
    "    isLeapYear = False\n",
    "    \n",
    "# Determine the date of the next day\n",
    "if month == 1 or month == 3 or month == 5 or month == 7 or month  == 8 or month == 10:\n",
    "    if day >= 1 and day < 31:\n",
    "        day += 1\n",
    "    elif day == 31:\n",
    "        day = 1\n",
    "        month = month + 1\n",
    "elif month == 4 or month == 6 or month == 9 or month == 11:\n",
    "    if day >= 1 and day < 30:\n",
    "        day += 1\n",
    "    elif day == 30:\n",
    "        day = 1\n",
    "        month += 1        \n",
    "elif month == 2:     \n",
    "    if day >= 1 and day < 28:\n",
    "        day += 1    \n",
    "    elif day == 28:\n",
    "        if isLeapYear:\n",
    "            day +=1\n",
    "        else:\n",
    "            day = 1\n",
    "            month += 1\n",
    "    elif day == 29:\n",
    "        day = 1\n",
    "        month +=1\n",
    "elif month == 12:\n",
    "    if day >= 1 and day < 31:\n",
    "        day += 1\n",
    "    elif day == 31:\n",
    "        day = 1\n",
    "        month = 1\n",
    "        year += 1  \n",
    "a = datetime(year = d_year, month = d_month, day = d_day)\n",
    "b = datetime(year = year, month = month, day = day)\n",
    "\n",
    "# Display the result\n",
    "print('Next day after', str(a)[:10], 'is', str(b)[:10]+'.')"
   ]
  },
  {
   "cell_type": "code",
   "execution_count": null,
   "metadata": {},
   "outputs": [],
   "source": []
  }
 ],
 "metadata": {
  "kernelspec": {
   "display_name": "Python 3",
   "language": "python",
   "name": "python3"
  },
  "language_info": {
   "codemirror_mode": {
    "name": "ipython",
    "version": 3
   },
   "file_extension": ".py",
   "mimetype": "text/x-python",
   "name": "python",
   "nbconvert_exporter": "python",
   "pygments_lexer": "ipython3",
   "version": "3.6.5"
  }
 },
 "nbformat": 4,
 "nbformat_minor": 2
}
