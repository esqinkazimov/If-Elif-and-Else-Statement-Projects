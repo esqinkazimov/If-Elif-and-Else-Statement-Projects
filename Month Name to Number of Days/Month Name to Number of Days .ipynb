{
 "cells": [
  {
   "cell_type": "code",
   "execution_count": 1,
   "metadata": {},
   "outputs": [
    {
     "name": "stdout",
     "output_type": "stream",
     "text": [
      "Enter the name of a months: August\n",
      "August has 31 days in it.\n"
     ]
    }
   ],
   "source": [
    "## Display the number of days in a month.\n",
    "\n",
    "# Read input from the user\n",
    "month = input('Enter the name of a months: ')\n",
    "\n",
    "# Compute the number of days in the month\n",
    "days = 31\n",
    "if month == 'April' or month.lower == 'June' or month == 'September' or \\\n",
    "   month == 'November':\n",
    "    days = 30\n",
    "elif month == 'February':\n",
    "    days = '28 or 29'\n",
    "    \n",
    "# Display the result\n",
    "print(month, 'has', days, 'days in it.')"
   ]
  }
 ],
 "metadata": {
  "kernelspec": {
   "display_name": "Python 3",
   "language": "python",
   "name": "python3"
  },
  "language_info": {
   "codemirror_mode": {
    "name": "ipython",
    "version": 3
   },
   "file_extension": ".py",
   "mimetype": "text/x-python",
   "name": "python",
   "nbconvert_exporter": "python",
   "pygments_lexer": "ipython3",
   "version": "3.6.5"
  }
 },
 "nbformat": 4,
 "nbformat_minor": 2
}
