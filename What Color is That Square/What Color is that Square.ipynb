{
 "cells": [
  {
   "cell_type": "code",
   "execution_count": 1,
   "metadata": {},
   "outputs": [
    {
     "name": "stdout",
     "output_type": "stream",
     "text": [
      "Enter the position like d5: f5\n",
      "The color of the square with given position is white .\n"
     ]
    }
   ],
   "source": [
    "## Determine the color of the square based on given poition\n",
    "\n",
    "# Read the position from the user\n",
    "p = input('Enter the position like d5: ')\n",
    "\n",
    "# Determine the color\n",
    "color = 'white'\n",
    "if (p[0] == 'a' or p[0] == 'c' or p[0] == 'e' or p[0] == 'g') and \\\n",
    "   (p[1] == '1' or p[1] == '3' or p[1] == '5' or p[1] == '7'):\n",
    "    color = 'black'\n",
    "elif (p[0] == 'b' or p[0] == 'd' or p[0] == 'f' or p[0] == 'h') and \\\n",
    "     (p[1] == '2' or p[1] == '4' or p[1] == '6' or p[1] == '8'):\n",
    "    color = 'black'\n",
    "    \n",
    "# Display the result\n",
    "print('The color of the square with given position is', color, '.')"
   ]
  }
 ],
 "metadata": {
  "kernelspec": {
   "display_name": "Python 3",
   "language": "python",
   "name": "python3"
  },
  "language_info": {
   "codemirror_mode": {
    "name": "ipython",
    "version": 3
   },
   "file_extension": ".py",
   "mimetype": "text/x-python",
   "name": "python",
   "nbconvert_exporter": "python",
   "pygments_lexer": "ipython3",
   "version": "3.6.5"
  }
 },
 "nbformat": 4,
 "nbformat_minor": 2
}
