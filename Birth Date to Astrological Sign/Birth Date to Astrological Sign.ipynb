{
 "cells": [
  {
   "cell_type": "code",
   "execution_count": 1,
   "metadata": {},
   "outputs": [
    {
     "name": "stdout",
     "output_type": "stream",
     "text": [
      "Enter the name of the month: August\n",
      "Enter the day number: 10\n",
      "Your zodiac sign is Leo .\n"
     ]
    }
   ],
   "source": [
    "## Determine the zodiac sign associated with a birth date according to the position of the Sun\n",
    "\n",
    "# Read a birth date from the user\n",
    "month = input('Enter the name of the month: ')\n",
    "day = int(input('Enter the day number: '))\n",
    "\n",
    "# Determine the Zodiac sign\n",
    "if month == 'December':\n",
    "    if day <= 21:\n",
    "        sign = 'Sagittarius'\n",
    "    else: \n",
    "        sign = 'Capricorn'\n",
    "elif month == 'January':\n",
    "    if day <= 19:\n",
    "        sign = 'Capricorn'\n",
    "    else: \n",
    "        sign = 'Aquarius'\n",
    "elif month == 'February':\n",
    "    if day <= 18:\n",
    "        sign = 'Aquarius'\n",
    "    else:\n",
    "        sign = 'Pisces'\n",
    "elif month == 'March':\n",
    "    if day <= 20:\n",
    "        sign = 'Pisces'\n",
    "    else:\n",
    "        sign = 'Aries'\n",
    "elif month == 'April':\n",
    "    if day <= 19:\n",
    "        sign = 'Aries'\n",
    "    else:\n",
    "        sign = 'Taurus'\n",
    "elif month == 'May':\n",
    "    if day <= 20:\n",
    "        sign = 'Taurus'\n",
    "    else:\n",
    "        sign = 'Gemini'\n",
    "elif month == 'June':\n",
    "    if day <= 20:\n",
    "        sign = 'Gemini'\n",
    "    else:\n",
    "        sign = 'Cancer'\n",
    "elif month == 'July':\n",
    "    if day <= 22:\n",
    "        sign = 'Cancer'\n",
    "    else:\n",
    "        sign = 'Leo'\n",
    "elif month == 'August':\n",
    "    if day <= 22:\n",
    "        sign = 'Leo'\n",
    "    else:\n",
    "        sign = 'Virgo'\n",
    "elif month == 'September':\n",
    "    if day <= 22:\n",
    "        sign = 'Virgo'\n",
    "    else: \n",
    "        sign = 'Libra'\n",
    "elif month == 'October':\n",
    "    if day <= 22:\n",
    "        sign = 'Libra'\n",
    "    else: \n",
    "        sign = 'Scorpio'\n",
    "elif month == 'November':\n",
    "    if day <= 21:\n",
    "        sign = 'Scorpio'\n",
    "    else:\n",
    "        sign = 'Sagittarius'\n",
    "        \n",
    "# Display the result\n",
    "print('Your zodiac sign is', sign, '.')"
   ]
  }
 ],
 "metadata": {
  "kernelspec": {
   "display_name": "Python 3",
   "language": "python",
   "name": "python3"
  },
  "language_info": {
   "codemirror_mode": {
    "name": "ipython",
    "version": 3
   },
   "file_extension": ".py",
   "mimetype": "text/x-python",
   "name": "python",
   "nbconvert_exporter": "python",
   "pygments_lexer": "ipython3",
   "version": "3.6.5"
  }
 },
 "nbformat": 4,
 "nbformat_minor": 2
}
