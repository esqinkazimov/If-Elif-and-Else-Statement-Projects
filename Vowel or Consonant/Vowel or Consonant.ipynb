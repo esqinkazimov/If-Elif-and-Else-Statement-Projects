{
 "cells": [
  {
   "cell_type": "code",
   "execution_count": 1,
   "metadata": {},
   "outputs": [
    {
     "name": "stdout",
     "output_type": "stream",
     "text": [
      "Enter a letter of the alphabet: y\n",
      "y sometimes is a vower... sometimes is a consonant.\n"
     ]
    }
   ],
   "source": [
    "## Determine if a letter is a vowel or a constant\n",
    "\n",
    "# Read the letter from the user\n",
    "letter = input('Enter a letter of the alphabet: ')\n",
    "\n",
    "# Classify the letter and report the result\n",
    "if letter == 'a' or letter == 'e' or letter == 'i' or letter == 'o' or letter == 'u':\n",
    "    print(letter, 'is a vowel.')\n",
    "elif letter == 'y':\n",
    "    print(letter, \"sometimes is a vower... sometimes is a consonant.\")\n",
    "else:\n",
    "    print(letter, 'is a consonant.')"
   ]
  }
 ],
 "metadata": {
  "kernelspec": {
   "display_name": "Python 3",
   "language": "python",
   "name": "python3"
  },
  "language_info": {
   "codemirror_mode": {
    "name": "ipython",
    "version": 3
   },
   "file_extension": ".py",
   "mimetype": "text/x-python",
   "name": "python",
   "nbconvert_exporter": "python",
   "pygments_lexer": "ipython3",
   "version": "3.6.5"
  }
 },
 "nbformat": 4,
 "nbformat_minor": 2
}
