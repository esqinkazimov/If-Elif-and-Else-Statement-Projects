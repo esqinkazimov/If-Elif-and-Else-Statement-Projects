{
 "cells": [
  {
   "cell_type": "code",
   "execution_count": 1,
   "metadata": {},
   "outputs": [
    {
     "name": "stdout",
     "output_type": "stream",
     "text": [
      "Enter the rating: 0.9\n",
      "Based on that rating, the performance is Meritorius.\n",
      "You will receive a raise of 2160.00$.\n"
     ]
    }
   ],
   "source": [
    "'''Report whether an employees performance is unacceptable, accptable,\n",
    "or meritorious based on the rating entered by the user.'''\n",
    "\n",
    "RAISE_FACTOR = 2400.00\n",
    "UNACCEPTABLE = 0\n",
    "ACCEPTABLE = 0.4\n",
    "MERITORIOUS = 0.6\n",
    "\n",
    "# Read the rating from the user\n",
    "rating = float(input('Enter the rating: '))\n",
    "\n",
    "# Classify the performance \n",
    "if rating == UNACCEPTABLE:\n",
    "    performance = 'Unacceptable'\n",
    "elif rating == ACCEPTABLE:\n",
    "    performance = 'Acceptable'\n",
    "elif rating >= MERITORIOUS:\n",
    "    performance = 'Meritorius'\n",
    "else:\n",
    "    performance = ''\n",
    "    \n",
    "# Report the result \n",
    "if performance == '':\n",
    "    print(\"That wasn't a valid rating.\")\n",
    "else:\n",
    "    print('Based on that rating, the performance is %s.' % performance)\n",
    "    print('You will receive a raise of %.2f$.' % (rating * RAISE_FACTOR))"
   ]
  }
 ],
 "metadata": {
  "kernelspec": {
   "display_name": "Python 3",
   "language": "python",
   "name": "python3"
  },
  "language_info": {
   "codemirror_mode": {
    "name": "ipython",
    "version": 3
   },
   "file_extension": ".py",
   "mimetype": "text/x-python",
   "name": "python",
   "nbconvert_exporter": "python",
   "pygments_lexer": "ipython3",
   "version": "3.6.5"
  }
 },
 "nbformat": 4,
 "nbformat_minor": 2
}
