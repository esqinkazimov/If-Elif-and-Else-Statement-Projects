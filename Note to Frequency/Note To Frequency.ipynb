{
 "cells": [
  {
   "cell_type": "code",
   "execution_count": 1,
   "metadata": {},
   "outputs": [
    {
     "name": "stdout",
     "output_type": "stream",
     "text": [
      "Enter the two character note name, such as C4: G5\n",
      "The frequency of G5 is 784.0\n"
     ]
    }
   ],
   "source": [
    "## Convert the name of a note to its frequency.\n",
    "\n",
    "C4_FREQ = 261.63\n",
    "D4_FREQ = 293.66\n",
    "E4_FREQ = 329.63\n",
    "F4_FREQ = 349.23\n",
    "G4_FREQ = 392.00\n",
    "A4_FREQ = 440.00\n",
    "B4_FREQ = 493.88\n",
    "\n",
    "# Read the note name from the user\n",
    "name = input('Enter the two character note name, such as C4: ')\n",
    "\n",
    "# Store the note and its octave in seperate variables\n",
    "note = name[0]\n",
    "octave = int(name[1])\n",
    "\n",
    "# Get frequency of the note, assuming it is in the fourth octave\n",
    "if note == 'C':\n",
    "    freq = C4_FREQ\n",
    "elif note == 'D':\n",
    "    freq = D4_FREQ\n",
    "elif note == 'E':\n",
    "    freq = E4_FREQ\n",
    "elif note == 'F':\n",
    "    freq = F4_FREQ\n",
    "elif note == 'G':\n",
    "    freq = G4_FREQ\n",
    "elif note == 'A':\n",
    "    freq = A4_FREQ\n",
    "elif note == 'B':\n",
    "    freq = B4_FREQ\n",
    "    \n",
    "# Now adjust the frequency to bring it into the correct octave\n",
    "freq = freq / 2 ** (4 - octave)\n",
    "\n",
    "# Display the result\n",
    "print('The frequency of', name, 'is', freq)"
   ]
  }
 ],
 "metadata": {
  "kernelspec": {
   "display_name": "Python 3",
   "language": "python",
   "name": "python3"
  },
  "language_info": {
   "codemirror_mode": {
    "name": "ipython",
    "version": 3
   },
   "file_extension": ".py",
   "mimetype": "text/x-python",
   "name": "python",
   "nbconvert_exporter": "python",
   "pygments_lexer": "ipython3",
   "version": "3.6.5"
  }
 },
 "nbformat": 4,
 "nbformat_minor": 2
}
