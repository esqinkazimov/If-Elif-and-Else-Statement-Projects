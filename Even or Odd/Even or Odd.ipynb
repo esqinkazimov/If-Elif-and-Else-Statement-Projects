{
 "cells": [
  {
   "cell_type": "code",
   "execution_count": 1,
   "metadata": {},
   "outputs": [
    {
     "name": "stdout",
     "output_type": "stream",
     "text": [
      "Enter an integer: 17\n",
      "17 is odd\n"
     ]
    }
   ],
   "source": [
    "## Determine and display whether an integer entered by the user is even or odd\n",
    "\n",
    "# Read the integer from the user\n",
    "num = int(input('Enter an integer: '))\n",
    "\n",
    "# Determine whether it is even or odd by using the modulus(remainder) operator\n",
    "if num % 2 == 1:\n",
    "    print(num, 'is odd')\n",
    "else:\n",
    "    print(num, 'is even')"
   ]
  }
 ],
 "metadata": {
  "kernelspec": {
   "display_name": "Python 3",
   "language": "python",
   "name": "python3"
  },
  "language_info": {
   "codemirror_mode": {
    "name": "ipython",
    "version": 3
   },
   "file_extension": ".py",
   "mimetype": "text/x-python",
   "name": "python",
   "nbconvert_exporter": "python",
   "pygments_lexer": "ipython3",
   "version": "3.6.5"
  }
 },
 "nbformat": 4,
 "nbformat_minor": 2
}
