{
 "cells": [
  {
   "cell_type": "code",
   "execution_count": 1,
   "metadata": {},
   "outputs": [
    {
     "name": "stdout",
     "output_type": "stream",
     "text": [
      "Enter a year: 2000\n",
      "2000 is the year of the Dragon.\n"
     ]
    }
   ],
   "source": [
    "## Determine the animal associated with a year according to the Chinese zodiac.\n",
    "\n",
    "# Read a year from the user\n",
    "year = int(input('Enter a year: '))\n",
    "\n",
    "# Determine the animal associated with that year\n",
    "if year % 12 == 8:\n",
    "    animal = 'Dragon'\n",
    "elif year % 12 == 9:\n",
    "    animal = 'Snake'\n",
    "elif year % 12 == 10:\n",
    "    animal = 'Horse'\n",
    "elif year % 12 == 11:\n",
    "    animal = 'Sheep'\n",
    "elif year % 12 == 0:\n",
    "    animal = 'Monkey'\n",
    "elif year % 12 == 1:\n",
    "    animal = 'Rooster'\n",
    "elif year % 12 == 2:\n",
    "    animal = 'Dog'\n",
    "elif year % 12 == 3:\n",
    "    animal = 'Pig'\n",
    "elif year % 12 == 4:\n",
    "    animal = 'Rat'\n",
    "elif year % 12 == 5:\n",
    "    animal = 'Ox'\n",
    "elif year % 12 == 6:\n",
    "    animal = 'Tiger'\n",
    "elif year % 12 == 7:\n",
    "    animal = 'Hare'\n",
    "    \n",
    "# Report the result\n",
    "print('%d is the year of the %s.' % (year, animal))"
   ]
  }
 ],
 "metadata": {
  "kernelspec": {
   "display_name": "Python 3",
   "language": "python",
   "name": "python3"
  },
  "language_info": {
   "codemirror_mode": {
    "name": "ipython",
    "version": 3
   },
   "file_extension": ".py",
   "mimetype": "text/x-python",
   "name": "python",
   "nbconvert_exporter": "python",
   "pygments_lexer": "ipython3",
   "version": "3.6.5"
  }
 },
 "nbformat": 4,
 "nbformat_minor": 2
}
