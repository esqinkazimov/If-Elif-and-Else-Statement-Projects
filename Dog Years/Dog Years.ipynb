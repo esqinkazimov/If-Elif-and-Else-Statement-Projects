{
 "cells": [
  {
   "cell_type": "code",
   "execution_count": 1,
   "metadata": {},
   "outputs": [
    {
     "name": "stdout",
     "output_type": "stream",
     "text": [
      "Enter the age of your dog in human years: 6.5\n",
      "The age of the dog in dog years is 39.0\n"
     ]
    }
   ],
   "source": [
    "## Determine the age of the dog in dog years\n",
    "\n",
    "# Read input from the user\n",
    "dog_age = float(input('Enter the age of your dog in human years: '))\n",
    "\n",
    "# Determine the age of the dog in human years\n",
    "if 0 <= dog_age <= 2:\n",
    "    in_human_age = dog_age * 10.5\n",
    "    print('The age of dog in dog years is', in_human_age)\n",
    "elif dog_age > 2:\n",
    "    in_human_age = 21 + (dog_age - 2) * 4\n",
    "    print('The age of the dog in dog years is', in_human_age)\n",
    "else:\n",
    "    print('Enter a positive integer!')"
   ]
  }
 ],
 "metadata": {
  "kernelspec": {
   "display_name": "Python 3",
   "language": "python",
   "name": "python3"
  },
  "language_info": {
   "codemirror_mode": {
    "name": "ipython",
    "version": 3
   },
   "file_extension": ".py",
   "mimetype": "text/x-python",
   "name": "python",
   "nbconvert_exporter": "python",
   "pygments_lexer": "ipython3",
   "version": "3.6.5"
  }
 },
 "nbformat": 4,
 "nbformat_minor": 2
}
