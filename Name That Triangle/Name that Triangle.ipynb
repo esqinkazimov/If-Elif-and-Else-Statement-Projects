{
 "cells": [
  {
   "cell_type": "code",
   "execution_count": 1,
   "metadata": {},
   "outputs": [
    {
     "name": "stdout",
     "output_type": "stream",
     "text": [
      "Enter the length of side 1: 4\n",
      "Enter the length of side 2: 7\n",
      "Enter the length of side 3: 4\n",
      "That's a isoceles tirangle.\n"
     ]
    }
   ],
   "source": [
    "## Determine the name of a triangle from the lengths of its sides\n",
    "\n",
    "# Read the side lengths from the user\n",
    "side1 = float(input('Enter the length of side 1: '))\n",
    "side2 = float(input('Enter the length of side 2: '))\n",
    "side3 = float(input('Enter the length of side 3: '))\n",
    "\n",
    "# Determine the triangle's name\n",
    "if side1 == side2 and side2 == side3:\n",
    "    name = 'equilateral'\n",
    "elif side1 == side2 or side2 == side3 or side3 == side1:\n",
    "    name = 'isoceles'\n",
    "else:\n",
    "    name = 'scalene'\n",
    "    \n",
    "# Display the triangle's name\n",
    "print(\"That's a\", name, 'tirangle.')"
   ]
  }
 ],
 "metadata": {
  "kernelspec": {
   "display_name": "Python 3",
   "language": "python",
   "name": "python3"
  },
  "language_info": {
   "codemirror_mode": {
    "name": "ipython",
    "version": 3
   },
   "file_extension": ".py",
   "mimetype": "text/x-python",
   "name": "python",
   "nbconvert_exporter": "python",
   "pygments_lexer": "ipython3",
   "version": "3.6.5"
  }
 },
 "nbformat": 4,
 "nbformat_minor": 2
}
